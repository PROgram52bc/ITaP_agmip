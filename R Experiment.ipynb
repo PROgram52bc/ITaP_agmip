{
 "cells": [
  {
   "cell_type": "markdown",
   "id": "e97c928b",
   "metadata": {},
   "source": [
    "## Vector\n",
    "Vectors have values of the **same type**, and consists of **one dimensional** data."
   ]
  },
  {
   "cell_type": "code",
   "execution_count": null,
   "id": "9a242673",
   "metadata": {},
   "outputs": [],
   "source": [
    "(c(c(1,2,3), c(4,5,6))) # nested columns are collapsed"
   ]
  },
  {
   "cell_type": "code",
   "execution_count": null,
   "id": "a5f935a6",
   "metadata": {},
   "outputs": [],
   "source": [
    "c(1,\"blah\", TRUE) # vector with different types will be coerced to the same type"
   ]
  },
  {
   "cell_type": "markdown",
   "id": "a5fd1cbc",
   "metadata": {},
   "source": [
    "## List\n",
    "Lists have values of the **different type**, and consists of **one dimensional** data."
   ]
  },
  {
   "cell_type": "code",
   "execution_count": null,
   "id": "3062a983",
   "metadata": {},
   "outputs": [],
   "source": [
    "list(1,\"blah\", TRUE, c('a','b','c','d')) # a list will preserve types"
   ]
  },
  {
   "cell_type": "code",
   "execution_count": null,
   "id": "924aea09",
   "metadata": {},
   "outputs": [],
   "source": [
    "c(list('a','b'), list('c','d')) # vector of lists is collapsed into a single list"
   ]
  },
  {
   "cell_type": "code",
   "execution_count": null,
   "id": "c3514d73",
   "metadata": {},
   "outputs": [],
   "source": [
    "list(col=c(1,2,3), num=5, nested=list('nested','list')) # Creating a list with named indices"
   ]
  },
  {
   "cell_type": "code",
   "execution_count": null,
   "id": "d5c57b19",
   "metadata": {},
   "outputs": [],
   "source": [
    "l <- list(c(1,2,3), 5, list('nested','list')) # Creating a list\n",
    "names(l) <- c(\"col\", \"num\", \"nested\") # assign names later\n",
    "l"
   ]
  },
  {
   "cell_type": "code",
   "execution_count": null,
   "id": "21240f1e",
   "metadata": {},
   "outputs": [],
   "source": [
    "la <- append(l, list(new=3)) # appending elements to a list, more like merging two lists\n",
    "lb <- c(l, list(new=3)) # same thing\n",
    "\n",
    "print(paste(\"la and lb are\", ifelse(identical(la, lb), \"identical\", \"different\")))\n",
    "la"
   ]
  },
  {
   "cell_type": "code",
   "execution_count": null,
   "id": "bbea88af",
   "metadata": {},
   "outputs": [],
   "source": [
    "la$new # access named element"
   ]
  },
  {
   "cell_type": "markdown",
   "id": "5682c020",
   "metadata": {},
   "source": [
    "## Matrix\n",
    "Matrices have values of the **same type**, and consists of **two dimensional** data."
   ]
  },
  {
   "cell_type": "code",
   "execution_count": null,
   "id": "1e478779",
   "metadata": {},
   "outputs": [],
   "source": [
    "m <- matrix(c(1:10), nrow=2)\n",
    "m"
   ]
  },
  {
   "cell_type": "markdown",
   "id": "467798f7",
   "metadata": {},
   "source": [
    "## Array\n",
    "Arrays have values of the **same type**, and consists of **multiple dimensional** data."
   ]
  },
  {
   "cell_type": "code",
   "execution_count": 30,
   "id": "5de44d96",
   "metadata": {},
   "outputs": [
    {
     "data": {
      "text/html": [
       "<strong>$dim</strong> = <style>\n",
       ".list-inline {list-style: none; margin:0; padding: 0}\n",
       ".list-inline>li {display: inline-block}\n",
       ".list-inline>li:not(:last-child)::after {content: \"\\00b7\"; padding: 0 .5ex}\n",
       "</style>\n",
       "<ol class=list-inline><li>3</li><li>4</li></ol>\n"
      ],
      "text/latex": [
       "\\textbf{\\$dim} = \\begin{enumerate*}\n",
       "\\item 3\n",
       "\\item 4\n",
       "\\end{enumerate*}\n"
      ],
      "text/markdown": [
       "**$dim** = 1. 3\n",
       "2. 4\n",
       "\n",
       "\n"
      ],
      "text/plain": [
       "$dim\n",
       "[1] 3 4\n"
      ]
     },
     "metadata": {},
     "output_type": "display_data"
    }
   ],
   "source": [
    "a <- array(c(1,2,3,4,5,6,7,8,9,10,11,12), dim=c(3,4)) # add dimension to a vector\n",
    "attributes(a) # retrieve the attributes of an array\n",
    "# dim(a)"
   ]
  },
  {
   "cell_type": "code",
   "execution_count": 43,
   "id": "91acaa78",
   "metadata": {},
   "outputs": [
    {
     "data": {
      "text/html": [
       "<table class=\"dataframe\">\n",
       "<caption>A matrix: 2 × 6 of type dbl</caption>\n",
       "<tbody>\n",
       "\t<tr><td>1</td><td>3</td><td>5</td><td>7</td><td> 9</td><td>11</td></tr>\n",
       "\t<tr><td>2</td><td>4</td><td>6</td><td>8</td><td>10</td><td>12</td></tr>\n",
       "</tbody>\n",
       "</table>\n"
      ],
      "text/latex": [
       "A matrix: 2 × 6 of type dbl\n",
       "\\begin{tabular}{llllll}\n",
       "\t 1 & 3 & 5 & 7 &  9 & 11\\\\\n",
       "\t 2 & 4 & 6 & 8 & 10 & 12\\\\\n",
       "\\end{tabular}\n"
      ],
      "text/markdown": [
       "\n",
       "A matrix: 2 × 6 of type dbl\n",
       "\n",
       "| 1 | 3 | 5 | 7 |  9 | 11 |\n",
       "| 2 | 4 | 6 | 8 | 10 | 12 |\n",
       "\n"
      ],
      "text/plain": [
       "     [,1] [,2] [,3] [,4] [,5] [,6]\n",
       "[1,] 1    3    5    7     9   11  \n",
       "[2,] 2    4    6    8    10   12  "
      ]
     },
     "metadata": {},
     "output_type": "display_data"
    }
   ],
   "source": [
    "dim(a) = c(2,6) # can reshape an array\n",
    "a"
   ]
  },
  {
   "cell_type": "code",
   "execution_count": 45,
   "id": "1cfc7b51",
   "metadata": {},
   "outputs": [
    {
     "data": {
      "text/html": [
       "TRUE"
      ],
      "text/latex": [
       "TRUE"
      ],
      "text/markdown": [
       "TRUE"
      ],
      "text/plain": [
       "[1] TRUE"
      ]
     },
     "metadata": {},
     "output_type": "display_data"
    }
   ],
   "source": [
    "is.matrix(a) # a two-dimensional array is just a matrix"
   ]
  },
  {
   "cell_type": "code",
   "execution_count": 46,
   "id": "cb7380a7",
   "metadata": {},
   "outputs": [
    {
     "data": {
      "text/html": [
       "'double'"
      ],
      "text/latex": [
       "'double'"
      ],
      "text/markdown": [
       "'double'"
      ],
      "text/plain": [
       "[1] \"double\""
      ]
     },
     "metadata": {},
     "output_type": "display_data"
    }
   ],
   "source": [
    "typeof(a) # type of the array is the type of the contained element"
   ]
  },
  {
   "cell_type": "code",
   "execution_count": 39,
   "id": "4a2ab84d",
   "metadata": {},
   "outputs": [
    {
     "data": {
      "text/html": [
       "<table class=\"dataframe\">\n",
       "<caption>A matrix: 1 × 2 of type dbl</caption>\n",
       "<tbody>\n",
       "\t<tr><td>1</td><td>2</td></tr>\n",
       "</tbody>\n",
       "</table>\n"
      ],
      "text/latex": [
       "A matrix: 1 × 2 of type dbl\n",
       "\\begin{tabular}{ll}\n",
       "\t 1 & 2\\\\\n",
       "\\end{tabular}\n"
      ],
      "text/markdown": [
       "\n",
       "A matrix: 1 × 2 of type dbl\n",
       "\n",
       "| 1 | 2 |\n",
       "\n"
      ],
      "text/plain": [
       "     [,1] [,2]\n",
       "[1,] 1    2   "
      ]
     },
     "metadata": {},
     "output_type": "display_data"
    }
   ],
   "source": [
    "# Try to create an array with less size than data\n",
    "# dim(a) = c(1,2) # an error because dimension not matching\n",
    "a2 <- array(c(1,2,3,4,5,6,7,8,9,10,11,12), dim=c(1,2)) # when creating, rest of the values get truncated\n",
    "a2"
   ]
  },
  {
   "cell_type": "code",
   "execution_count": 54,
   "id": "8f92ad1f",
   "metadata": {},
   "outputs": [
    {
     "data": {
      "text/html": [
       "<table class=\"dataframe\">\n",
       "<caption>A matrix: 9 × 9 of type dbl</caption>\n",
       "<tbody>\n",
       "\t<tr><td>1</td><td>10</td><td> 7</td><td> 4</td><td>1</td><td>10</td><td> 7</td><td> 4</td><td>1</td></tr>\n",
       "\t<tr><td>2</td><td>11</td><td> 8</td><td> 5</td><td>2</td><td>11</td><td> 8</td><td> 5</td><td>2</td></tr>\n",
       "\t<tr><td>3</td><td>12</td><td> 9</td><td> 6</td><td>3</td><td>12</td><td> 9</td><td> 6</td><td>3</td></tr>\n",
       "\t<tr><td>4</td><td> 1</td><td>10</td><td> 7</td><td>4</td><td> 1</td><td>10</td><td> 7</td><td>4</td></tr>\n",
       "\t<tr><td>5</td><td> 2</td><td>11</td><td> 8</td><td>5</td><td> 2</td><td>11</td><td> 8</td><td>5</td></tr>\n",
       "\t<tr><td>6</td><td> 3</td><td>12</td><td> 9</td><td>6</td><td> 3</td><td>12</td><td> 9</td><td>6</td></tr>\n",
       "\t<tr><td>7</td><td> 4</td><td> 1</td><td>10</td><td>7</td><td> 4</td><td> 1</td><td>10</td><td>7</td></tr>\n",
       "\t<tr><td>8</td><td> 5</td><td> 2</td><td>11</td><td>8</td><td> 5</td><td> 2</td><td>11</td><td>8</td></tr>\n",
       "\t<tr><td>9</td><td> 6</td><td> 3</td><td>12</td><td>9</td><td> 6</td><td> 3</td><td>12</td><td>9</td></tr>\n",
       "</tbody>\n",
       "</table>\n"
      ],
      "text/latex": [
       "A matrix: 9 × 9 of type dbl\n",
       "\\begin{tabular}{lllllllll}\n",
       "\t 1 & 10 &  7 &  4 & 1 & 10 &  7 &  4 & 1\\\\\n",
       "\t 2 & 11 &  8 &  5 & 2 & 11 &  8 &  5 & 2\\\\\n",
       "\t 3 & 12 &  9 &  6 & 3 & 12 &  9 &  6 & 3\\\\\n",
       "\t 4 &  1 & 10 &  7 & 4 &  1 & 10 &  7 & 4\\\\\n",
       "\t 5 &  2 & 11 &  8 & 5 &  2 & 11 &  8 & 5\\\\\n",
       "\t 6 &  3 & 12 &  9 & 6 &  3 & 12 &  9 & 6\\\\\n",
       "\t 7 &  4 &  1 & 10 & 7 &  4 &  1 & 10 & 7\\\\\n",
       "\t 8 &  5 &  2 & 11 & 8 &  5 &  2 & 11 & 8\\\\\n",
       "\t 9 &  6 &  3 & 12 & 9 &  6 &  3 & 12 & 9\\\\\n",
       "\\end{tabular}\n"
      ],
      "text/markdown": [
       "\n",
       "A matrix: 9 × 9 of type dbl\n",
       "\n",
       "| 1 | 10 |  7 |  4 | 1 | 10 |  7 |  4 | 1 |\n",
       "| 2 | 11 |  8 |  5 | 2 | 11 |  8 |  5 | 2 |\n",
       "| 3 | 12 |  9 |  6 | 3 | 12 |  9 |  6 | 3 |\n",
       "| 4 |  1 | 10 |  7 | 4 |  1 | 10 |  7 | 4 |\n",
       "| 5 |  2 | 11 |  8 | 5 |  2 | 11 |  8 | 5 |\n",
       "| 6 |  3 | 12 |  9 | 6 |  3 | 12 |  9 | 6 |\n",
       "| 7 |  4 |  1 | 10 | 7 |  4 |  1 | 10 | 7 |\n",
       "| 8 |  5 |  2 | 11 | 8 |  5 |  2 | 11 | 8 |\n",
       "| 9 |  6 |  3 | 12 | 9 |  6 |  3 | 12 | 9 |\n",
       "\n"
      ],
      "text/plain": [
       "      [,1] [,2] [,3] [,4] [,5] [,6] [,7] [,8] [,9]\n",
       " [1,] 1    10    7    4   1    10    7    4   1   \n",
       " [2,] 2    11    8    5   2    11    8    5   2   \n",
       " [3,] 3    12    9    6   3    12    9    6   3   \n",
       " [4,] 4     1   10    7   4     1   10    7   4   \n",
       " [5,] 5     2   11    8   5     2   11    8   5   \n",
       " [6,] 6     3   12    9   6     3   12    9   6   \n",
       " [7,] 7     4    1   10   7     4    1   10   7   \n",
       " [8,] 8     5    2   11   8     5    2   11   8   \n",
       " [9,] 9     6    3   12   9     6    3   12   9   "
      ]
     },
     "metadata": {},
     "output_type": "display_data"
    }
   ],
   "source": [
    "# Try to create an array with larger size than data\n",
    "# dim(a) <- c(9,9) # an error: ... dims [product 81] do not match the length of object [12]\n",
    "a3 <- array(c(1,2,3,4,5,6,7,8,9,10,11,12), dim=c(9,9)) # when creating, values are repeated\n",
    "a3"
   ]
  },
  {
   "cell_type": "code",
   "execution_count": 56,
   "id": "1252afa9",
   "metadata": {},
   "outputs": [
    {
     "data": {
      "text/html": [
       "<style>\n",
       ".list-inline {list-style: none; margin:0; padding: 0}\n",
       ".list-inline>li {display: inline-block}\n",
       ".list-inline>li:not(:last-child)::after {content: \"\\00b7\"; padding: 0 .5ex}\n",
       "</style>\n",
       "<ol class=list-inline><li>2</li><li>3</li><li>2</li></ol>\n"
      ],
      "text/latex": [
       "\\begin{enumerate*}\n",
       "\\item 2\n",
       "\\item 3\n",
       "\\item 2\n",
       "\\end{enumerate*}\n"
      ],
      "text/markdown": [
       "1. 2\n",
       "2. 3\n",
       "3. 2\n",
       "\n",
       "\n"
      ],
      "text/plain": [
       "[1] 2 3 2"
      ]
     },
     "metadata": {},
     "output_type": "display_data"
    }
   ],
   "source": [
    "a3 <- array(c(1:12), dim=c(2,3,2)) # array of multiple dimension\n",
    "dim(a3)"
   ]
  },
  {
   "cell_type": "code",
   "execution_count": 58,
   "id": "f897156c",
   "metadata": {},
   "outputs": [
    {
     "data": {
      "text/html": [
       "FALSE"
      ],
      "text/latex": [
       "FALSE"
      ],
      "text/markdown": [
       "FALSE"
      ],
      "text/plain": [
       "[1] FALSE"
      ]
     },
     "metadata": {},
     "output_type": "display_data"
    }
   ],
   "source": [
    "is.matrix(a3) # not a matrix"
   ]
  },
  {
   "cell_type": "code",
   "execution_count": null,
   "id": "93a52230",
   "metadata": {},
   "outputs": [],
   "source": []
  },
  {
   "cell_type": "code",
   "execution_count": null,
   "id": "d75d0b78",
   "metadata": {},
   "outputs": [],
   "source": []
  },
  {
   "cell_type": "markdown",
   "id": "74912f7a",
   "metadata": {},
   "source": [
    "## Array\n",
    "Arrays have values of the **xxx type**, and consists of **xxx dimensional** data."
   ]
  },
  {
   "cell_type": "code",
   "execution_count": null,
   "id": "1f70c5f7",
   "metadata": {},
   "outputs": [],
   "source": []
  },
  {
   "cell_type": "markdown",
   "id": "84748d7e",
   "metadata": {},
   "source": [
    "## dplyr library"
   ]
  },
  {
   "cell_type": "code",
   "execution_count": 71,
   "id": "3a0a081c",
   "metadata": {},
   "outputs": [
    {
     "data": {
      "text/html": [
       "<table class=\"dataframe\">\n",
       "<caption>A tibble: 19 × 2</caption>\n",
       "<thead>\n",
       "\t<tr><th scope=col>hour</th><th scope=col>dep_delay</th></tr>\n",
       "\t<tr><th scope=col>&lt;dbl&gt;</th><th scope=col>&lt;dbl&gt;</th></tr>\n",
       "</thead>\n",
       "<tbody>\n",
       "\t<tr><td> 5</td><td> 0.6877572</td></tr>\n",
       "\t<tr><td> 6</td><td> 1.6427956</td></tr>\n",
       "\t<tr><td> 7</td><td> 1.9140778</td></tr>\n",
       "\t<tr><td> 8</td><td> 4.1279478</td></tr>\n",
       "\t<tr><td> 9</td><td> 4.5837378</td></tr>\n",
       "\t<tr><td>10</td><td> 6.4982946</td></tr>\n",
       "\t<tr><td>11</td><td> 7.1916503</td></tr>\n",
       "\t<tr><td>12</td><td> 8.6148485</td></tr>\n",
       "\t<tr><td>13</td><td>11.4376504</td></tr>\n",
       "\t<tr><td>14</td><td>13.8188742</td></tr>\n",
       "\t<tr><td>15</td><td>16.8945646</td></tr>\n",
       "\t<tr><td>16</td><td>18.7570165</td></tr>\n",
       "\t<tr><td>17</td><td>21.1006059</td></tr>\n",
       "\t<tr><td>18</td><td>21.1100818</td></tr>\n",
       "\t<tr><td>19</td><td>24.7847911</td></tr>\n",
       "\t<tr><td>20</td><td>24.3041048</td></tr>\n",
       "\t<tr><td>21</td><td>24.1957431</td></tr>\n",
       "\t<tr><td>22</td><td>18.7910972</td></tr>\n",
       "\t<tr><td>23</td><td>14.0171756</td></tr>\n",
       "</tbody>\n",
       "</table>\n"
      ],
      "text/latex": [
       "A tibble: 19 × 2\n",
       "\\begin{tabular}{ll}\n",
       " hour & dep\\_delay\\\\\n",
       " <dbl> & <dbl>\\\\\n",
       "\\hline\n",
       "\t  5 &  0.6877572\\\\\n",
       "\t  6 &  1.6427956\\\\\n",
       "\t  7 &  1.9140778\\\\\n",
       "\t  8 &  4.1279478\\\\\n",
       "\t  9 &  4.5837378\\\\\n",
       "\t 10 &  6.4982946\\\\\n",
       "\t 11 &  7.1916503\\\\\n",
       "\t 12 &  8.6148485\\\\\n",
       "\t 13 & 11.4376504\\\\\n",
       "\t 14 & 13.8188742\\\\\n",
       "\t 15 & 16.8945646\\\\\n",
       "\t 16 & 18.7570165\\\\\n",
       "\t 17 & 21.1006059\\\\\n",
       "\t 18 & 21.1100818\\\\\n",
       "\t 19 & 24.7847911\\\\\n",
       "\t 20 & 24.3041048\\\\\n",
       "\t 21 & 24.1957431\\\\\n",
       "\t 22 & 18.7910972\\\\\n",
       "\t 23 & 14.0171756\\\\\n",
       "\\end{tabular}\n"
      ],
      "text/markdown": [
       "\n",
       "A tibble: 19 × 2\n",
       "\n",
       "| hour &lt;dbl&gt; | dep_delay &lt;dbl&gt; |\n",
       "|---|---|\n",
       "|  5 |  0.6877572 |\n",
       "|  6 |  1.6427956 |\n",
       "|  7 |  1.9140778 |\n",
       "|  8 |  4.1279478 |\n",
       "|  9 |  4.5837378 |\n",
       "| 10 |  6.4982946 |\n",
       "| 11 |  7.1916503 |\n",
       "| 12 |  8.6148485 |\n",
       "| 13 | 11.4376504 |\n",
       "| 14 | 13.8188742 |\n",
       "| 15 | 16.8945646 |\n",
       "| 16 | 18.7570165 |\n",
       "| 17 | 21.1006059 |\n",
       "| 18 | 21.1100818 |\n",
       "| 19 | 24.7847911 |\n",
       "| 20 | 24.3041048 |\n",
       "| 21 | 24.1957431 |\n",
       "| 22 | 18.7910972 |\n",
       "| 23 | 14.0171756 |\n",
       "\n"
      ],
      "text/plain": [
       "   hour dep_delay \n",
       "1   5    0.6877572\n",
       "2   6    1.6427956\n",
       "3   7    1.9140778\n",
       "4   8    4.1279478\n",
       "5   9    4.5837378\n",
       "6  10    6.4982946\n",
       "7  11    7.1916503\n",
       "8  12    8.6148485\n",
       "9  13   11.4376504\n",
       "10 14   13.8188742\n",
       "11 15   16.8945646\n",
       "12 16   18.7570165\n",
       "13 17   21.1006059\n",
       "14 18   21.1100818\n",
       "15 19   24.7847911\n",
       "16 20   24.3041048\n",
       "17 21   24.1957431\n",
       "18 22   18.7910972\n",
       "19 23   14.0171756"
      ]
     },
     "metadata": {},
     "output_type": "display_data"
    }
   ],
   "source": [
    "flights %>% group_by(hour) %>% filter(!is.na(dep_delay)) %>% summarise(dep_delay  = mean(dep_delay))"
   ]
  }
 ],
 "metadata": {
  "kernelspec": {
   "display_name": "R",
   "language": "R",
   "name": "ir"
  },
  "language_info": {
   "codemirror_mode": "r",
   "file_extension": ".r",
   "mimetype": "text/x-r-source",
   "name": "R",
   "pygments_lexer": "r",
   "version": "4.0.3"
  }
 },
 "nbformat": 4,
 "nbformat_minor": 5
}
