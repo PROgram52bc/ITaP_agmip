{
 "cells": [
  {
   "cell_type": "code",
   "execution_count": null,
   "metadata": {
    "scrolled": false
   },
   "outputs": [],
   "source": [
    "from code.cfg import model, view, ctrl\n",
    "# Start MVC objects (to trace into a module, set a breakpoint on corresponding line below) \n",
    "model.start()  # Load data or prepare access to data\n",
    "view.start(log=True)  # Build user interface (specify \"log=True\" when debugging app)\n",
    "ctrl.start()  # Run the app "
   ]
  }
 ],
 "metadata": {
  "interpreter": {
   "hash": "191ca7fecc240fb00d18100eb4629d31663762446682db60bbca5ba89181619b"
  },
  "kernelspec": {
   "display_name": "Python 3",
   "language": "python",
   "name": "python3"
  },
  "language_info": {
   "codemirror_mode": {
    "name": "ipython",
    "version": 3
   },
   "file_extension": ".py",
   "mimetype": "text/x-python",
   "name": "python",
   "nbconvert_exporter": "python",
   "pygments_lexer": "ipython3",
   "version": "3.8.0"
  }
 },
 "nbformat": 4,
 "nbformat_minor": 4
}
