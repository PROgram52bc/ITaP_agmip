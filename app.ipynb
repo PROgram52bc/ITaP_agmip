{
 "cells": [
  {
   "cell_type": "code",
   "execution_count": 1,
   "metadata": {
    "scrolled": false
   },
   "outputs": [
    {
     "data": {
      "text/html": [
       "<!-- custom.html: App-specific style and JavaScript -->\n",
       "<style>\n",
       "    /* NOTE Put custom CSS here to change appearance of app */\n",
       "    :root {\n",
       "        /* Theme colors, darkest (...0) to lightest (...3 */\n",
       "        --jp-brand-color0: #555960 !important;\n",
       "        --jp-brand-color1: #6F727B !important;\n",
       "        --jp-brand-color2: #9D9795 !important;\n",
       "        --jp-brand-color3: #C4BFC0 !important;\n",
       "    }\n",
       "    /* App title: big, with theme-colored font */\n",
       "    .app_title {\n",
       "        align-self: center;\n",
       "        font-weight: bold;\n",
       "        color: var(--jp-brand-color0);\n",
       "        background-color: transparent;\n",
       "        font-size: 20px;\n",
       "    }\n",
       "    .scatter_content {\n",
       "        justify-content: space-between;\n",
       "    }\n",
       "    .p-Collapse-header {\n",
       "        font-size         : 18px;\n",
       "        color             : white !important;\n",
       "        background-color  : steelblue !important;\n",
       "        padding-top       : 1em;\n",
       "        padding-bottom    : 1em;\n",
       "    }\n",
       "    .p-TabBar-tabLabel {\n",
       "        font-size         : 18px;\n",
       "        font-weight       : bold !important;\n",
       "        color             : steelblue !important;\n",
       "        margin-top        : 2em !important;\n",
       "        margin-bottom     : 2em !important;\n",
       "    }\n",
       "    .p-TabBar-tab {\n",
       "        flex-basis: auto !important;\n",
       "        padding: 0 1em !important;\n",
       "    }\n",
       "    .jupyter-button {\n",
       "        color: white !important;\n",
       "        background-color: steelblue !important;\n",
       "        height: auto;\n",
       "        width: fit-content;\n",
       "        margin-top: 1em;\n",
       "        margin-bottom: 1em;\n",
       "        padding: 0.25em 0.5em;\n",
       "        font-size: 15px;\n",
       "    }\n",
       "    .widget-select {\n",
       "        min-width: 60%;\n",
       "        width: fit-content;\n",
       "    }\n",
       "\n",
       "    .no-subarea-padding .output_subarea {\n",
       "        padding: 0 !important;\n",
       "    }\n",
       "\n",
       "    /* Table formatting \n",
       "       Adapted from https://www.w3schools.com/css/tryit.asp?filename=trycss_table_fancy\n",
       "     */\n",
       "\n",
       "    /* highlight the first column */\n",
       "    .fancy-table td:first-child {\n",
       "        font-weight: bold;\n",
       "    }\n",
       "    /* conditionally hide first column that should be bolded and served as the key of the entry */\n",
       "    .hide-first-column td:first-child {\n",
       "        display: none;\n",
       "    }\n",
       "    \n",
       "    .fancy-table table {\n",
       "        border-collapse: collapse;\n",
       "        width: 100%;\n",
       "    }\n",
       "    .fancy-table td {\n",
       "        border: 1px solid #ddd;\n",
       "        padding: 5px;\n",
       "    }\n",
       "    .fancy-table tr:nth-child(even){background-color: #f2f2f2;}\n",
       "    .fancy-table tr:hover {background-color: #ddd;}\n",
       "\n",
       "</style>\n",
       "<script>\n",
       "    /* NOTE Put custom JavaScript here to change behavior of app */\n",
       "</script>\n"
      ],
      "text/plain": [
       "<IPython.core.display.HTML object>"
      ]
     },
     "metadata": {},
     "output_type": "display_data"
    },
    {
     "data": {
      "application/vnd.jupyter.widget-view+json": {
       "model_id": "298b3c5ca1734b82931d372716cffcc7",
       "version_major": 2,
       "version_minor": 0
      },
      "text/plain": [
       "VBox(children=(HBox(children=(HTML(value=\"AgMIP Tool: A GEOSHARE tool for aggregating outputs from the AgMIP's…"
      ]
     },
     "metadata": {},
     "output_type": "display_data"
    }
   ],
   "source": [
    "from src.cfg import model, view, ctrl\n",
    "# Start MVC objects (to trace into a module, set a breakpoint on corresponding line below) \n",
    "model.start()  # Load data or prepare access to data\n",
    "view.start(log=True)  # Build user interface (specify \"log=True\" when debugging app)\n",
    "ctrl.start()  # Run the app "
   ]
  }
 ],
 "metadata": {
  "interpreter": {
   "hash": "191ca7fecc240fb00d18100eb4629d31663762446682db60bbca5ba89181619b"
  },
  "kernelspec": {
   "display_name": "Python 3",
   "language": "python",
   "name": "python3"
  },
  "language_info": {
   "codemirror_mode": {
    "name": "ipython",
    "version": 3
   },
   "file_extension": ".py",
   "mimetype": "text/x-python",
   "name": "python",
   "nbconvert_exporter": "python",
   "pygments_lexer": "ipython3",
   "version": "3.8.0"
  }
 },
 "nbformat": 4,
 "nbformat_minor": 4
}
