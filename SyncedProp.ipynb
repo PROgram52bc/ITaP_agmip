{
 "cells": [
  {
   "cell_type": "code",
   "execution_count": null,
   "id": "a74f8018",
   "metadata": {},
   "outputs": [],
   "source": [
    "from lib import SyncedProp\n",
    "\n",
    "import ipywidgets as widgets\n",
    "\n",
    "caption = widgets.Label(value='The values of slider1 and slider2 are synchronized')\n",
    "slider1, slider2 = widgets.IntSlider(description='Slider 1'),\\\n",
    "                    widgets.IntSlider(description='Slider 2')\n",
    "display(caption, slider1, slider2)"
   ]
  },
  {
   "cell_type": "code",
   "execution_count": null,
   "id": "8ecb24f3",
   "metadata": {},
   "outputs": [],
   "source": [
    "p = SyncedProp()\n",
    "p.sync_prop(slider1, 'value')\n",
    "p.sync_prop(slider1, 'value')\n",
    "slider2.value = 87\n",
    "p.sync_prop(slider2, 'value')\n",
    "assert p.value == 87\n",
    "p.value = 45\n",
    "assert slider1.value == slider2.value == 45"
   ]
  },
  {
   "cell_type": "code",
   "execution_count": null,
   "id": "4ff98b89",
   "metadata": {},
   "outputs": [],
   "source": [
    "p2 = SyncedProp((slider1, 'value'), (slider2, 'value'))\n",
    "assert p2.value == p.value"
   ]
  },
  {
   "cell_type": "code",
   "execution_count": null,
   "id": "86950bee",
   "metadata": {},
   "outputs": [],
   "source": [
    "def out_content(value):\n",
    "    print(f\"Value of the slider: {value}\")\n",
    "out = widgets.interactive_output(out_content, {'value': p})\n",
    "display(out)"
   ]
  },
  {
   "cell_type": "code",
   "execution_count": null,
   "id": "5af41dd0",
   "metadata": {
    "scrolled": true
   },
   "outputs": [],
   "source": [
    "from lib import ComputedProp\n",
    "\n",
    "slider3 = widgets.IntSlider(description='Slider 3')\n",
    "checkbox = widgets.Checkbox(description='Sum is greater than 50', disabled=True)\n",
    "\n",
    "sum_greater_than_100 = ComputedProp((slider1, 'value', 'v1'), (slider3, 'value', 'v3'), f=lambda v1,v3:v1+v3>50)\n",
    "\n",
    "# SyncedProp((checkbox, 'value')).add_input_prop(sum_greater_than_100, 'value')\n",
    "SyncedProp(checkbox).add_input_prop(sum_greater_than_100)\n",
    "display(slider3, checkbox)"
   ]
  },
  {
   "cell_type": "code",
   "execution_count": null,
   "id": "29c8479c",
   "metadata": {},
   "outputs": [],
   "source": [
    "# dynamically update the name of slider 3\n",
    "dropdown = widgets.Dropdown(\n",
    "    options=['Slider 3', 'Some Fancy Slider', 'Stupid Slider', 'Random Slider'],\n",
    "    description='Set name of Slider 3'\n",
    ")\n",
    "\n",
    "SyncedProp().add_output_prop(slider3, 'description').add_input_prop(dropdown, 'value')\n",
    "display(dropdown)"
   ]
  },
  {
   "cell_type": "code",
   "execution_count": null,
   "id": "bfb98227",
   "metadata": {},
   "outputs": [],
   "source": [
    "# computed prop with unnamed inputs, default prop name to 'value'\n",
    "from datetime import datetime\n",
    "def get_time():\n",
    "    return str(datetime.now()) \n",
    "\n",
    "# only specifying a 2-tuple to ComputedProp\n",
    "incrementing_num = ComputedProp((slider3, 'description'), f=get_time)\n",
    "t = widgets.Text()\n",
    "# default to 'value'\n",
    "SyncedProp().add_output_prop(t).add_input_prop(incrementing_num)\n",
    "display(t)"
   ]
  },
  {
   "cell_type": "markdown",
   "id": "10210415",
   "metadata": {},
   "source": [
    "## Sync"
   ]
  },
  {
   "cell_type": "code",
   "execution_count": null,
   "id": "7a4129a7",
   "metadata": {},
   "outputs": [],
   "source": [
    "from lib import Prop\n",
    "\n",
    "in1 = Prop(1)\n",
    "assert in1.value == 1\n",
    "in2 = Prop(2)\n",
    "assert in2.value == 2\n",
    "\n",
    "# input sync option specifies whether to update immediately based on the input prop\n",
    "s_in = SyncedProp().add_input_prop(in1, sync=True).add_input_prop(in2, sync=False)\n",
    "assert in1.value == 1\n",
    "assert in2.value == 2\n",
    "assert s_in.value == 1 # not updated by in2\n",
    "\n",
    "in2.value = 22\n",
    "assert s_in.value == 22 # update is triggered by subsequent changes\n",
    "\n",
    "# output sync option specifies whether to update the component immediately based on current value\n",
    "out1 = Prop(None)\n",
    "out2 = Prop(None)\n",
    "\n",
    "s_out = SyncedProp()\n",
    "s_out.value = 42\n",
    "s_out.add_output_prop(out1, sync=True).add_output_prop(out2, sync=False)\n",
    "\n",
    "assert out1.value == 42\n",
    "assert out2.value == None # out2's value is not updated immediately\n",
    "s_out.value = 17\n",
    "assert out1.value == out2.value == s_out.value == 17 # only updated after subsequent changes"
   ]
  },
  {
   "cell_type": "markdown",
   "id": "06572390",
   "metadata": {},
   "source": [
    "## \"Maybe\" in `ComputedProp`"
   ]
  },
  {
   "cell_type": "code",
   "execution_count": null,
   "id": "62acb3af",
   "metadata": {},
   "outputs": [],
   "source": [
    "# Thought: Is it possible to add types to prop?\n",
    "in1 = Prop(1)\n",
    "in2 = Prop(1)\n",
    "in1_plus_in2 = ComputedProp() \\\n",
    "    .add_inputs((in1, 'value', 'lhs'), (in2, 'value', 'rhs')) \\\n",
    "    .set_output(lambda lhs, rhs: lhs+rhs) \\\n",
    "    .resync()\n",
    "in1_plus_in2.value"
   ]
  },
  {
   "cell_type": "code",
   "execution_count": null,
   "id": "887ca5a1",
   "metadata": {},
   "outputs": [],
   "source": [
    "in1.value = None\n",
    "# lambda won't explode\n",
    "assert in1_plus_in2.value is None\n",
    "in1.value = 4\n",
    "in1_plus_in2.value"
   ]
  },
  {
   "cell_type": "code",
   "execution_count": null,
   "id": "d358e829",
   "metadata": {},
   "outputs": [],
   "source": [
    "# Take None as a valid value\n",
    "should_disable = ComputedProp(use_none=True) \\\n",
    "    .add_input(in1, 'value', 'v') \\\n",
    "    .set_output(lambda v: not v) \\\n",
    "    .resync()\n",
    "in1.value = 1\n",
    "assert should_disable.value == False\n",
    "in1.value = None\n",
    "assert should_disable.value == True # None is taken as a valid input"
   ]
  },
  {
   "cell_type": "markdown",
   "id": "0899c375",
   "metadata": {},
   "source": [
    "# NegatedProp"
   ]
  },
  {
   "cell_type": "code",
   "execution_count": null,
   "id": "797af24d",
   "metadata": {},
   "outputs": [],
   "source": [
    "from lib.prop import NegatedProp, displayable\n",
    "prop = Prop(value=True)\n",
    "nprop = NegatedProp(prop)\n",
    "toggle = widgets.ToggleButton(description=\"Toggle Value\", value=True)\n",
    "SyncedProp() << toggle >> prop\n",
    "\n",
    "display(displayable(prop, \"normal\"))\n",
    "display(displayable(nprop, \"negated\"))\n",
    "display(toggle)"
   ]
  },
  {
   "cell_type": "markdown",
   "id": "7be7b6c0",
   "metadata": {},
   "source": [
    "# If then else widget"
   ]
  },
  {
   "cell_type": "code",
   "execution_count": null,
   "id": "d72b7815",
   "metadata": {},
   "outputs": [],
   "source": [
    "from lib.prop import conditional_widget\n",
    "display(conditional_widget(prop, \n",
    "                           widgets.Text(\"Toggle condition is true\"),\n",
    "                           widgets.Valid(value=False)\n",
    "                          ))"
   ]
  },
  {
   "cell_type": "markdown",
   "id": "fa15f4fc",
   "metadata": {},
   "source": [
    "## Optional else widget"
   ]
  },
  {
   "cell_type": "code",
   "execution_count": null,
   "id": "5a8bbf92",
   "metadata": {},
   "outputs": [],
   "source": [
    "display(conditional_widget(prop, widgets.Text(\"Will disappear when cond is false\")))"
   ]
  }
 ],
 "metadata": {
  "kernelspec": {
   "display_name": "Python 3",
   "language": "python",
   "name": "python3"
  },
  "language_info": {
   "codemirror_mode": {
    "name": "ipython",
    "version": 3
   },
   "file_extension": ".py",
   "mimetype": "text/x-python",
   "name": "python",
   "nbconvert_exporter": "python",
   "pygments_lexer": "ipython3",
   "version": "3.8.0"
  }
 },
 "nbformat": 4,
 "nbformat_minor": 5
}
