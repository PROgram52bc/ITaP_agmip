{
 "cells": [
  {
   "cell_type": "code",
   "execution_count": null,
   "id": "a74f8018",
   "metadata": {},
   "outputs": [],
   "source": [
    "from lib import SyncedProp\n",
    "\n",
    "import ipywidgets as widgets\n",
    "\n",
    "caption = widgets.Label(value='The values of slider1 and slider2 are synchronized')\n",
    "slider1, slider2 = widgets.IntSlider(description='Slider 1'),\\\n",
    "                    widgets.IntSlider(description='Slider 2')\n",
    "display(caption, slider1, slider2)"
   ]
  },
  {
   "cell_type": "code",
   "execution_count": null,
   "id": "8ecb24f3",
   "metadata": {},
   "outputs": [],
   "source": [
    "p = SyncedProp()\n",
    "p.sync_prop(slider1, 'value')\n",
    "p.sync_prop(slider1, 'value')\n",
    "slider2.value = 87\n",
    "p.sync_prop(slider2, 'value')\n",
    "assert p.value == 87\n",
    "p.value = 45\n",
    "assert slider1.value == slider2.value == 45"
   ]
  },
  {
   "cell_type": "code",
   "execution_count": null,
   "id": "4ff98b89",
   "metadata": {},
   "outputs": [],
   "source": [
    "p2 = SyncedProp((slider1, 'value'), (slider2, 'value'))\n",
    "assert p2.value == p.value"
   ]
  },
  {
   "cell_type": "code",
   "execution_count": null,
   "id": "86950bee",
   "metadata": {},
   "outputs": [],
   "source": [
    "def out_content(value):\n",
    "    print(f\"Value of the slider: {value}\")\n",
    "out = widgets.interactive_output(out_content, {'value': p})\n",
    "display(out)"
   ]
  },
  {
   "cell_type": "code",
   "execution_count": null,
   "id": "5af41dd0",
   "metadata": {},
   "outputs": [],
   "source": [
    "from lib import ComputedProp\n",
    "\n",
    "slider3 = widgets.IntSlider(description='Slider 3')\n",
    "checkbox = widgets.Checkbox(description='Sum is greater than 50', disabled=True)\n",
    "\n",
    "sum_greater_than_100 = ComputedProp((slider1, 'value', 'v1'), (slider3, 'value', 'v3'), f=lambda v1,v3:v1+v3>50)\n",
    "\n",
    "# SyncedProp((checkbox, 'value')).add_input_prop(sum_greater_than_100, 'value')\n",
    "SyncedProp(checkbox).add_input_prop(sum_greater_than_100)\n",
    "display(slider3, checkbox)"
   ]
  },
  {
   "cell_type": "code",
   "execution_count": null,
   "id": "29c8479c",
   "metadata": {},
   "outputs": [],
   "source": [
    "# dynamically update the name of slider 3\n",
    "dropdown = widgets.Dropdown(\n",
    "    options=['Slider 3', 'Some Fancy Slider', 'Stupid Slider', 'Random Slider'],\n",
    "    description='Set name of Slider 3'\n",
    ")\n",
    "\n",
    "SyncedProp().add_output_prop(slider3, 'description').add_input_prop(dropdown, 'value')\n",
    "display(dropdown)"
   ]
  },
  {
   "cell_type": "code",
   "execution_count": null,
   "id": "bfb98227",
   "metadata": {},
   "outputs": [],
   "source": [
    "# computed prop with unnamed inputs, default prop name to 'value'\n",
    "from datetime import datetime\n",
    "def get_time():\n",
    "    return str(datetime.now()) \n",
    "\n",
    "# only specifying a 2-tuple to ComputedProp\n",
    "incrementing_num = ComputedProp((slider3, 'description'), f=get_time)\n",
    "t = widgets.Text()\n",
    "# default to 'value'\n",
    "SyncedProp().add_output_prop(t).add_input_prop(incrementing_num)\n",
    "display(t)"
   ]
  }
 ],
 "metadata": {
  "kernelspec": {
   "display_name": "Python 3",
   "language": "python",
   "name": "python3"
  },
  "language_info": {
   "codemirror_mode": {
    "name": "ipython",
    "version": 3
   },
   "file_extension": ".py",
   "mimetype": "text/x-python",
   "name": "python",
   "nbconvert_exporter": "python",
   "pygments_lexer": "ipython3",
   "version": "3.8.12"
  }
 },
 "nbformat": 4,
 "nbformat_minor": 5
}
