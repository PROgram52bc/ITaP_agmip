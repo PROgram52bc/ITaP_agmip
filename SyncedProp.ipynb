{
 "cells": [
  {
   "cell_type": "code",
   "execution_count": null,
   "id": "8ecb24f3",
   "metadata": {},
   "outputs": [],
   "source": [
    "from lib import SyncedProp\n",
    "\n",
    "import ipywidgets as widgets\n",
    "\n",
    "caption = widgets.Label(value='The values of slider1 and slider2 are synchronized')\n",
    "slider1, slider2 = widgets.IntSlider(description='Slider 1'),\\\n",
    "                    widgets.IntSlider(description='Slider 2')\n",
    "display(caption, slider1, slider2)\n",
    "\n",
    "p = SyncedProp()\n",
    "p.sync_prop(slider1, 'value')\n",
    "p.sync_prop(slider1, 'value')\n",
    "slider2.value = 87\n",
    "p.sync_prop(slider2, 'value')\n",
    "assert p.value == 87\n",
    "p.value = 45\n",
    "assert slider1.value == slider2.value == 45"
   ]
  },
  {
   "cell_type": "code",
   "execution_count": null,
   "id": "4ff98b89",
   "metadata": {},
   "outputs": [],
   "source": [
    "p2 = SyncedProp((slider1, 'value'), (slider2, 'value'))\n",
    "assert p2.value == p.value"
   ]
  },
  {
   "cell_type": "code",
   "execution_count": null,
   "id": "86950bee",
   "metadata": {},
   "outputs": [],
   "source": [
    "def out_content(value):\n",
    "    print(f\"Value of the slider: {value}\")\n",
    "out = widgets.interactive_output(out_content, {'value': p})\n",
    "display(out)"
   ]
  }
 ],
 "metadata": {
  "kernelspec": {
   "display_name": "Python 3",
   "language": "python",
   "name": "python3"
  },
  "language_info": {
   "codemirror_mode": {
    "name": "ipython",
    "version": 3
   },
   "file_extension": ".py",
   "mimetype": "text/x-python",
   "name": "python",
   "nbconvert_exporter": "python",
   "pygments_lexer": "ipython3",
   "version": "3.8.12"
  }
 },
 "nbformat": 4,
 "nbformat_minor": 5
}
