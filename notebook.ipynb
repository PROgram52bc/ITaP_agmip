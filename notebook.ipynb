{
 "cells": [
  {
   "cell_type": "code",
   "execution_count": 1,
   "metadata": {
    "scrolled": false
   },
   "outputs": [
    {
     "data": {
      "text/html": [
       "<!-- custom.html: App-specific style and JavaScript -->\n",
       "<style>\n",
       "    /* NOTE Put custom CSS here to change appearance of app */\n",
       "    :root {\n",
       "        /* Theme colors, darkest (...0) to lightest (...3 */\n",
       "        --jp-brand-color0: #555960 !important;\n",
       "        --jp-brand-color1: #6F727B !important;\n",
       "        --jp-brand-color2: #9D9795 !important;\n",
       "        --jp-brand-color3: #C4BFC0 !important;\n",
       "    }\n",
       "    /* App title: big, with theme-colored font */\n",
       "    .app_title {\n",
       "        align-self: center;\n",
       "        font-weight: bold;\n",
       "        color: var(--jp-brand-color0);\n",
       "        background-color: transparent;\n",
       "        font-size: 20px;\n",
       "    }\n",
       "    .p-Collapse-header {\n",
       "        color             : black !important;\n",
       "        background-color  : lightgreen !important;\n",
       "        padding-top       : 1em;\n",
       "        padding-bottom    : 1em;\n",
       "    }\n",
       "    .p-TabBar-tabLabel {\n",
       "        font-weight       : bold !important;\n",
       "        color             : green !important;\n",
       "        margin-top        : 2em !important;\n",
       "        margin-bottom     : 2em !important;\n",
       "    }\n",
       "    .jupyter-button {\n",
       "        color: dimgray !important;\n",
       "        background-color: lightgreen !important;\n",
       "        height: auto;\n",
       "        width: fit-content;\n",
       "        margin-top: 1em;\n",
       "        margin-bottom: 1em;\n",
       "        padding: 1em 2em;\n",
       "        font-size: 15px;\n",
       "    }\n",
       "\n",
       "\n",
       "</style>\n",
       "<script>\n",
       "    /* NOTE Put custom JavaScript here to change behavior of app */\n",
       "</script>\n"
      ],
      "text/plain": [
       "<IPython.core.display.HTML object>"
      ]
     },
     "metadata": {},
     "output_type": "display_data"
    },
    {
     "data": {
      "application/vnd.jupyter.widget-view+json": {
       "model_id": "ed7e6aa8633f48748164b249113fd606",
       "version_major": 2,
       "version_minor": 0
      },
      "text/plain": [
       "VBox(children=(HBox(children=(HTML(value='Agmip Data Tool', _dom_classes=('app_title',)), Image(value=b'\\xff\\x…"
      ]
     },
     "metadata": {},
     "output_type": "display_data"
    }
   ],
   "source": [
    "from nb.cfg import model, view, ctrl\n",
    "# Start MVC objects (to trace into a module, set a breakpoint on corresponding line below) \n",
    "model.start()  # Load data or prepare access to data\n",
    "view.start(log=True)  # Build user interface (specify \"log=True\" when debugging app)\n",
    "ctrl.start()  # Run the app "
   ]
  }
 ],
 "metadata": {
  "interpreter": {
   "hash": "191ca7fecc240fb00d18100eb4629d31663762446682db60bbca5ba89181619b"
  },
  "kernelspec": {
   "display_name": "Python3 (agmip)",
   "language": "python",
   "name": "agmip"
  },
  "language_info": {
   "codemirror_mode": {
    "name": "ipython",
    "version": 3
   },
   "file_extension": ".py",
   "mimetype": "text/x-python",
   "name": "python",
   "nbconvert_exporter": "python",
   "pygments_lexer": "ipython3",
   "version": "3.8.0"
  }
 },
 "nbformat": 4,
 "nbformat_minor": 4
}
