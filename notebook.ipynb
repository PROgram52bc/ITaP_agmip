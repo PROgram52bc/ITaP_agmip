{
 "cells": [
  {
   "cell_type": "code",
   "execution_count": 1,
   "metadata": {},
   "outputs": [
    {
     "data": {
      "text/html": [
       "<!-- custom.html: App-specific style and JavaScript -->\n",
       "<style>\n",
       "    /* NOTE Put custom CSS here to change appearance of app */\n",
       "    :root {\n",
       "        /* Theme colors, darkest (...0) to lightest (...3 */\n",
       "        --jp-brand-color0: #555960 !important;\n",
       "        --jp-brand-color1: #6F727B !important;\n",
       "        --jp-brand-color2: #9D9795 !important;\n",
       "        --jp-brand-color3: #C4BFC0 !important;\n",
       "    }\n",
       "    /* App title: big, with theme-colored font */\n",
       "    .app_title {\n",
       "        font-weight: bold;\n",
       "        color: var(--jp-brand-color0);\n",
       "        background-color: transparent;\n",
       "        font-size: 20px;\n",
       "    }\n",
       "    /* Tabs: thick with bold, theme-colored text */\n",
       "    .p-TabBar-tabLabel {\n",
       "        font-weight: bold !important;\n",
       "        color: var(--jp-brand-color0) !important;\n",
       "        margin-top: 1em !important;\n",
       "        margin-bottom: 1em !important;\n",
       "    }\n",
       "    /* Section headers: white text on theme-color background */\n",
       "    .p-Collapse-header {\n",
       "        color: white !important;\n",
       "        background-color: var(--jp-brand-color2) !important;\n",
       "        padding-top: 3px;\n",
       "        padding-bottom: 3px;\n",
       "        font-weight: normal !important;\n",
       "    }\n",
       "</style>\n",
       "<script>\n",
       "    /* NOTE Put custom JavaScript here to change behavior of app */\n",
       "</script>\n"
      ],
      "text/plain": [
       "<IPython.core.display.HTML object>"
      ]
     },
     "metadata": {},
     "output_type": "display_data"
    },
    {
     "data": {
      "application/vnd.jupyter.widget-view+json": {
       "model_id": "597cd45688a74fec9e366c61126cffee",
       "version_major": 2,
       "version_minor": 0
      },
      "text/plain": [
       "VBox(children=(HBox(children=(HTML(value='Land-Ocean Temperature Index', _dom_classes=('app_title',)), Image(v…"
      ]
     },
     "metadata": {},
     "output_type": "display_data"
    },
    {
     "data": {
      "application/vnd.jupyter.widget-view+json": {
       "model_id": "3a613f09b40148549efd78c4ea078aeb",
       "version_major": 2,
       "version_minor": 0
      },
      "text/plain": [
       "Output()"
      ]
     },
     "metadata": {},
     "output_type": "display_data"
    }
   ],
   "source": [
    "from nb.cfg import model, view, ctrl\n",
    "\n",
    "# Start MVC objects (to trace into a module, set a breakpoint on corresponding line below) \n",
    "model.start()  # Load data or prepare access to data\n",
    "view.start(log=True)  # Build user interface (specify \"log=True\" when debugging app)\n",
    "ctrl.start()  # Run the app \n"
   ]
  },
  {
   "cell_type": "code",
   "execution_count": 2,
   "metadata": {},
   "outputs": [
    {
     "data": {
      "text/plain": [
       "<class 'netCDF4._netCDF4.Dataset'>\n",
       "root group (NETCDF4 data model, file format HDF5):\n",
       "    title: EPIC model output for ISI-MIP\n",
       "    comment1: input: pr_v3 rhs_v3 rsds_v2 tasmax_v2 tasmin_v2 wind_v2\n",
       "    comment2: metadata according to the simulation protocol as of 21.08.2012\n",
       "    institution: BOKU/IIASA\n",
       "    contact: erwin.schmid@boku.ac.at,khabarov@iiasa.ac.at\n",
       "    dimensions(sizes): lon(720), lat(360), time(31)\n",
       "    variables(dimensions): float32 lon(lon), float32 lat(lat), float32 time(time), float32 yield_soy(time, lat, lon)\n",
       "    groups: "
      ]
     },
     "execution_count": 2,
     "metadata": {},
     "output_type": "execute_result"
    }
   ],
   "source": [
    "import netCDF4 as nc\n",
    "fn = 'data/epic_hadgem2-es_hist_ssp2_co2_firr_yield_soy_annual_1980_2010.nc4'\n",
    "ds = nc.Dataset(fn)\n",
    "ds"
   ]
  },
  {
   "cell_type": "code",
   "execution_count": 4,
   "metadata": {},
   "outputs": [
    {
     "name": "stdout",
     "output_type": "stream",
     "text": [
      "<class 'netCDF4._netCDF4.Variable'>\n",
      "float32 yield_soy(time, lat, lon)\n",
      "    short_field_name: yield_soy\n",
      "    long_field_name: yield_soy\n",
      "    units: t ha-1 yr-1\n",
      "    _FillValue: 1e+20\n",
      "unlimited dimensions: time\n",
      "current shape = (31, 360, 720)\n",
      "filling on\n"
     ]
    }
   ],
   "source": [
    "print(ds.variables['yield_soy'])"
   ]
  }
 ],
 "metadata": {
  "interpreter": {
   "hash": "191ca7fecc240fb00d18100eb4629d31663762446682db60bbca5ba89181619b"
  },
  "kernelspec": {
   "display_name": "Python 3",
   "language": "python",
   "name": "python3"
  },
  "language_info": {
   "codemirror_mode": {
    "name": "ipython",
    "version": 3
   },
   "file_extension": ".py",
   "mimetype": "text/x-python",
   "name": "python",
   "nbconvert_exporter": "python",
   "pygments_lexer": "ipython3",
   "version": "3.8.12"
  }
 },
 "nbformat": 4,
 "nbformat_minor": 4
}
