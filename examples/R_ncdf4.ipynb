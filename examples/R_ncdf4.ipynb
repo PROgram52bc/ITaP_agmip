{
 "cells": [
  {
   "cell_type": "code",
   "execution_count": 51,
   "id": "d59d18a8",
   "metadata": {},
   "outputs": [],
   "source": [
    "library(ncdf4)\n",
    "library(reshape)\n",
    "library(dplyr)\n",
    "filename1 <- \"../data/raw/PEGASUS/IPSL-CM5A-LR/hist/ssp2/co2/firr/soy/pegasus_ipsl-cm5a-lr_hist_ssp2_co2_firr_yield_soy_annual_1991_2000.nc4\"\n",
    "filename2 <- \"../data/epic_hadgem2-es_hist_ssp2_co2_firr_yield_soy_annual_1980_2010.nc4\"\n",
    "ncfile1 <- nc_open(filename1)\n",
    "ncfile2 <- nc_open(filename2)"
   ]
  },
  {
   "cell_type": "code",
   "execution_count": 52,
   "id": "8b9e40b7",
   "metadata": {},
   "outputs": [],
   "source": [
    "lat1 <- ncvar_get(ncfile1, varid=\"lat\")\n",
    "yield1 <- ncfile1 %>% ncvar_get(varid=\"yield_soy\")\n",
    "yield2 <- ncfile2 %>% ncvar_get(varid=\"yield_soy\")"
   ]
  },
  {
   "cell_type": "code",
   "execution_count": 53,
   "id": "08fc42f9",
   "metadata": {},
   "outputs": [
    {
     "name": "stdout",
     "output_type": "stream",
     "text": [
      "[1] 3\n",
      "[1] 3\n"
     ]
    }
   ],
   "source": [
    "print(length(dim(yield1)))\n",
    "print(length(dim(yield2)))"
   ]
  },
  {
   "cell_type": "code",
   "execution_count": 54,
   "id": "7fd137a9",
   "metadata": {},
   "outputs": [
    {
     "ename": "ERROR",
     "evalue": "Error in dimnames(yield1) <- list(\"a\", \"b\", \"c\"): length of 'dimnames' [1] not equal to array extent\n",
     "output_type": "error",
     "traceback": [
      "Error in dimnames(yield1) <- list(\"a\", \"b\", \"c\"): length of 'dimnames' [1] not equal to array extent\nTraceback:\n"
     ]
    }
   ],
   "source": [
    "dimnames(yield1) <- list(\"a\", \"b\", \"c\")"
   ]
  },
  {
   "cell_type": "code",
   "execution_count": 55,
   "id": "4ccc8f9f",
   "metadata": {},
   "outputs": [
    {
     "ename": "ERROR",
     "evalue": "Error in dimnames(yield2) <- list(\"a\", \"b\", \"c\"): length of 'dimnames' [1] not equal to array extent\n",
     "output_type": "error",
     "traceback": [
      "Error in dimnames(yield2) <- list(\"a\", \"b\", \"c\"): length of 'dimnames' [1] not equal to array extent\nTraceback:\n"
     ]
    }
   ],
   "source": [
    "dimnames(yield2) <- list(\"a\", \"b\", \"c\")"
   ]
  },
  {
   "cell_type": "code",
   "execution_count": null,
   "id": "db3a5ac1",
   "metadata": {},
   "outputs": [],
   "source": []
  },
  {
   "cell_type": "code",
   "execution_count": null,
   "id": "f39ce000",
   "metadata": {},
   "outputs": [],
   "source": []
  }
 ],
 "metadata": {
  "kernelspec": {
   "display_name": "R",
   "language": "R",
   "name": "ir"
  },
  "language_info": {
   "codemirror_mode": "r",
   "file_extension": ".r",
   "mimetype": "text/x-r-source",
   "name": "R",
   "pygments_lexer": "r",
   "version": "4.0.3"
  }
 },
 "nbformat": 4,
 "nbformat_minor": 5
}
