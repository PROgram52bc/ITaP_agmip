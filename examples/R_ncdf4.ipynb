{
 "cells": [
  {
   "cell_type": "code",
   "execution_count": 17,
   "id": "d59d18a8",
   "metadata": {},
   "outputs": [],
   "source": [
    "library(ncdf4)\n",
    "library(reshape)\n",
    "library(dplyr)\n",
    "ncfile <- nc_open('../data/raw/pDSSAT/NorESM1-M/rcp8p5/ssp2/co2/firr/rice/pdssat_noresm1-m_rcp8p5_ssp2_co2_firr_yield_ric_annual_2006_2010.nc4')"
   ]
  },
  {
   "cell_type": "code",
   "execution_count": 18,
   "id": "8b9e40b7",
   "metadata": {},
   "outputs": [],
   "source": [
    "lat <- ncvar_get(ncfile, varid=\"lat\")\n",
    "yield <- ncfile %>% ncvar_get(varid=\"yield_ric\")"
   ]
  },
  {
   "cell_type": "code",
   "execution_count": 19,
   "id": "db3a5ac1",
   "metadata": {},
   "outputs": [
    {
     "data": {
      "text/html": [
       "<style>\n",
       ".list-inline {list-style: none; margin:0; padding: 0}\n",
       ".list-inline>li {display: inline-block}\n",
       ".list-inline>li:not(:last-child)::after {content: \"\\00b7\"; padding: 0 .5ex}\n",
       "</style>\n",
       "<ol class=list-inline><li>720</li><li>360</li><li>5</li></ol>\n"
      ],
      "text/latex": [
       "\\begin{enumerate*}\n",
       "\\item 720\n",
       "\\item 360\n",
       "\\item 5\n",
       "\\end{enumerate*}\n"
      ],
      "text/markdown": [
       "1. 720\n",
       "2. 360\n",
       "3. 5\n",
       "\n",
       "\n"
      ],
      "text/plain": [
       "[1] 720 360   5"
      ]
     },
     "metadata": {},
     "output_type": "display_data"
    }
   ],
   "source": [
    "dim(yield)"
   ]
  },
  {
   "cell_type": "code",
   "execution_count": 21,
   "id": "f39ce000",
   "metadata": {},
   "outputs": [
    {
     "data": {
      "text/html": [
       "<style>\n",
       ".list-inline {list-style: none; margin:0; padding: 0}\n",
       ".list-inline>li {display: inline-block}\n",
       ".list-inline>li:not(:last-child)::after {content: \"\\00b7\"; padding: 0 .5ex}\n",
       "</style>\n",
       "<ol class=list-inline><li>1296000</li><li>4</li></ol>\n"
      ],
      "text/latex": [
       "\\begin{enumerate*}\n",
       "\\item 1296000\n",
       "\\item 4\n",
       "\\end{enumerate*}\n"
      ],
      "text/markdown": [
       "1. 1296000\n",
       "2. 4\n",
       "\n",
       "\n"
      ],
      "text/plain": [
       "[1] 1296000       4"
      ]
     },
     "metadata": {},
     "output_type": "display_data"
    }
   ],
   "source": []
  }
 ],
 "metadata": {
  "kernelspec": {
   "display_name": "R",
   "language": "R",
   "name": "ir"
  },
  "language_info": {
   "codemirror_mode": "r",
   "file_extension": ".r",
   "mimetype": "text/x-r-source",
   "name": "R",
   "pygments_lexer": "r",
   "version": "4.0.3"
  }
 },
 "nbformat": 4,
 "nbformat_minor": 5
}
