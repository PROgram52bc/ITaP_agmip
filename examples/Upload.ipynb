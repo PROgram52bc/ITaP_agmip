{
 "cells": [
  {
   "cell_type": "code",
   "execution_count": 2,
   "id": "2c9ed89c",
   "metadata": {},
   "outputs": [],
   "source": [
    "import set_env\n",
    "import os\n",
    "from ipywidgets import FileUpload, Button, HBox, Dropdown\n",
    "from lib.python.prop import *\n",
    "from lib.python.upload import Upload, SelectOrUpload\n",
    "from lib.python.utils import *"
   ]
  },
  {
   "cell_type": "code",
   "execution_count": 3,
   "id": "6334e1a0",
   "metadata": {},
   "outputs": [
    {
     "data": {
      "application/vnd.jupyter.widget-view+json": {
       "model_id": "bab5cb54f5a14986996055486789b0dd",
       "version_major": 2,
       "version_minor": 0
      },
      "text/plain": [
       "Upload(children=(FileUpload(value={}, description='Upload'), Button(description='Clear', disabled=True, style=…"
      ]
     },
     "metadata": {},
     "output_type": "display_data"
    }
   ],
   "source": [
    "use_uploaded = Prop(value=False)\n",
    "us = Upload(overwrite=True)\n",
    "def cb_use_upload(_):\n",
    "    use_uploaded.value = True\n",
    "us.on_upload(cb_use_upload)\n",
    "us"
   ]
  },
  {
   "cell_type": "code",
   "execution_count": 4,
   "id": "ae0ed18b",
   "metadata": {},
   "outputs": [
    {
     "data": {
      "application/vnd.jupyter.widget-view+json": {
       "model_id": "6345232a9797466290616d737f6ce713",
       "version_major": 2,
       "version_minor": 0
      },
      "text/plain": [
       "Output(_dom_classes=('no-subarea-padding',))"
      ]
     },
     "metadata": {},
     "output_type": "display_data"
    }
   ],
   "source": [
    "btn = Button(description=\"Use Existing\")\n",
    "def cb_use_selection(_):\n",
    "    use_uploaded.value = False\n",
    "btn.on_click(cb_use_selection)\n",
    "sl = conditional_widget(use_uploaded,\n",
    "                        btn,\n",
    "                        Dropdown(options=['file1.txt', 'file2.txt']))\n",
    "    \n",
    "sl"
   ]
  },
  {
   "cell_type": "code",
   "execution_count": 5,
   "id": "255566db",
   "metadata": {},
   "outputs": [
    {
     "data": {
      "application/vnd.jupyter.widget-view+json": {
       "model_id": "691a670c25644d5f9006728ec4d9ba98",
       "version_major": 2,
       "version_minor": 0
      },
      "text/plain": [
       "HBox(children=(Output(_dom_classes=('no-subarea-padding',)), Upload(children=(FileUpload(value={}, description…"
      ]
     },
     "metadata": {},
     "output_type": "display_data"
    }
   ],
   "source": [
    "hb = HBox(children=[sl, us])\n",
    "hb"
   ]
  },
  {
   "cell_type": "code",
   "execution_count": 6,
   "id": "5d01d92e",
   "metadata": {},
   "outputs": [
    {
     "data": {
      "application/vnd.jupyter.widget-view+json": {
       "model_id": "cb089262f5c04203a03f9d51998b6fb5",
       "version_major": 2,
       "version_minor": 0
      },
      "text/plain": [
       "SelectOrUpload(children=(Output(), Output(_dom_classes=('no-subarea-padding',)), Upload(children=(FileUpload(v…"
      ]
     },
     "metadata": {},
     "output_type": "display_data"
    }
   ],
   "source": [
    "su = SelectOrUpload(overwrite=True)\n",
    "su"
   ]
  },
  {
   "cell_type": "code",
   "execution_count": 7,
   "id": "681eb26b",
   "metadata": {},
   "outputs": [
    {
     "data": {
      "application/vnd.jupyter.widget-view+json": {
       "model_id": "3403f859ff314c7292c9e726d5e33985",
       "version_major": 2,
       "version_minor": 0
      },
      "text/plain": [
       "Output()"
      ]
     },
     "metadata": {},
     "output_type": "display_data"
    }
   ],
   "source": [
    "displayable(su.target_file)"
   ]
  }
 ],
 "metadata": {
  "kernelspec": {
   "display_name": "Python 3",
   "language": "python",
   "name": "python3"
  },
  "language_info": {
   "codemirror_mode": {
    "name": "ipython",
    "version": 3
   },
   "file_extension": ".py",
   "mimetype": "text/x-python",
   "name": "python",
   "nbconvert_exporter": "python",
   "pygments_lexer": "ipython3",
   "version": "3.8.0"
  }
 },
 "nbformat": 4,
 "nbformat_minor": 5
}
