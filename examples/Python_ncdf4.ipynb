{
 "cells": [
  {
   "cell_type": "code",
   "execution_count": null,
   "id": "c9875033",
   "metadata": {},
   "outputs": [],
   "source": [
    "import netCDF4\n",
    "import numpy as np\n",
    "from data import data"
   ]
  },
  {
   "cell_type": "code",
   "execution_count": null,
   "id": "155c155d",
   "metadata": {
    "scrolled": true
   },
   "outputs": [],
   "source": [
    "dataset = [ netCDF4.Dataset(f) for f in data ]\n",
    "dataset"
   ]
  },
  {
   "cell_type": "code",
   "execution_count": null,
   "id": "78aa94c7",
   "metadata": {},
   "outputs": [],
   "source": [
    "[ f.variables.keys() for f in dataset]"
   ]
  },
  {
   "cell_type": "code",
   "execution_count": null,
   "id": "2865887a",
   "metadata": {},
   "outputs": [],
   "source": [
    "[ len(f.dimensions['time']) for f in dataset ] # get length of a dimension"
   ]
  },
  {
   "cell_type": "code",
   "execution_count": null,
   "id": "26b5b931",
   "metadata": {},
   "outputs": [],
   "source": [
    "[ f.dimensions['lon'].isunlimited() for f in dataset ]# whether the dimension is appendable"
   ]
  },
  {
   "cell_type": "code",
   "execution_count": null,
   "id": "53423536",
   "metadata": {},
   "outputs": [],
   "source": [
    "[ f.ncattrs() for f in dataset ] # retrieve attribute names: metadata for the file\n",
    "# use f.__dict__ for attribute name:value pairs"
   ]
  },
  {
   "cell_type": "code",
   "execution_count": null,
   "id": "87353ffb",
   "metadata": {},
   "outputs": [],
   "source": [
    " # retrieve attribute name-value pairs\n",
    "def get_yield_variable(f):\n",
    "    return [ key for key in f.variables.keys() if key.startswith(\"yield_\") ]\n",
    "[ get_yield_variable(f) for f in dataset ]"
   ]
  },
  {
   "cell_type": "code",
   "execution_count": null,
   "id": "da9be285",
   "metadata": {},
   "outputs": [],
   "source": [
    "ds = dataset[0]\n",
    "var = ds.variables['yield_cas']\n",
    "var.ncattrs()"
   ]
  },
  {
   "cell_type": "code",
   "execution_count": null,
   "id": "7de88efe",
   "metadata": {},
   "outputs": [],
   "source": [
    "var.getncattr('_coordinateSystem')"
   ]
  },
  {
   "cell_type": "code",
   "execution_count": null,
   "id": "ffaf8a6f",
   "metadata": {},
   "outputs": [],
   "source": [
    "var.get_dims()"
   ]
  },
  {
   "cell_type": "code",
   "execution_count": null,
   "id": "4332bfac",
   "metadata": {},
   "outputs": [],
   "source": [
    "var[:].mean() # retrieve variable values"
   ]
  },
  {
   "cell_type": "markdown",
   "id": "f3589dc1",
   "metadata": {},
   "source": [
    "# `pandas` package\n"
   ]
  },
  {
   "cell_type": "code",
   "execution_count": null,
   "id": "1735c42c",
   "metadata": {
    "scrolled": false
   },
   "outputs": [],
   "source": [
    "import pandas\n",
    "# pandas.concat(var[:, :, :])\n",
    "len(var[0,0])"
   ]
  },
  {
   "cell_type": "markdown",
   "id": "2d3483e2",
   "metadata": {},
   "source": [
    "# `xarray` package"
   ]
  },
  {
   "cell_type": "code",
   "execution_count": null,
   "id": "9dca7e46",
   "metadata": {},
   "outputs": [],
   "source": [
    "import xarray\n",
    "# a single file\n",
    "file=\"../data/raw/PEGASUS/IPSL-CM5A-LR/rcp4p5/ssp2/co2/firr/soy/pegasus_ipsl-cm5a-lr_rcp4p5_ssp2_co2_firr_yield_soy_annual_2081_2090.nc4\"\n",
    "xarray.open_dataset(file, decode_times=False)"
   ]
  },
  {
   "cell_type": "code",
   "execution_count": null,
   "id": "0479b616",
   "metadata": {},
   "outputs": [],
   "source": [
    "# a pattern matching multiple files\n",
    "pattern=\"../data/raw/PEGASUS/IPSL-CM5A-LR/rcp4p5/ssp2/co2/firr/soy/pegasus_ipsl-cm5a-lr_rcp4p5_ssp2_co2_firr_yield_soy_annual_*.nc4\"\n",
    "# decode_times can't decode years, they are converted as index without the base year. Special processing needed\n",
    "ds = xarray.open_mfdataset(pattern,combine = 'nested', concat_dim=\"time\", decode_times=False)\n",
    "ds\n",
    "# ds.to_netcdf(\"sample.nc4\") # export to a new file"
   ]
  }
 ],
 "metadata": {
  "kernelspec": {
   "display_name": "Python 3",
   "language": "python",
   "name": "python3"
  },
  "language_info": {
   "codemirror_mode": {
    "name": "ipython",
    "version": 3
   },
   "file_extension": ".py",
   "mimetype": "text/x-python",
   "name": "python",
   "nbconvert_exporter": "python",
   "pygments_lexer": "ipython3",
   "version": "3.8.0"
  }
 },
 "nbformat": 4,
 "nbformat_minor": 5
}
