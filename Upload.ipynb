{
 "cells": [
  {
   "cell_type": "code",
   "execution_count": null,
   "id": "2c9ed89c",
   "metadata": {},
   "outputs": [],
   "source": [
    "from ipywidgets import FileUpload, Button\n",
    "from lib.prop import *\n",
    "from lib.upload import Upload\n",
    "from nb.utils import *\n",
    "import os"
   ]
  },
  {
   "cell_type": "code",
   "execution_count": null,
   "id": "a210ed9b",
   "metadata": {},
   "outputs": [],
   "source": [
    "us = Upload(overwrite=True)\n",
    "us"
   ]
  },
  {
   "cell_type": "code",
   "execution_count": null,
   "id": "06bd53f9",
   "metadata": {},
   "outputs": [],
   "source": [
    "os.path.getmtime(\"environment.yml\")"
   ]
  }
 ],
 "metadata": {
  "kernelspec": {
   "display_name": "Python 3",
   "language": "python",
   "name": "python3"
  },
  "language_info": {
   "codemirror_mode": {
    "name": "ipython",
    "version": 3
   },
   "file_extension": ".py",
   "mimetype": "text/x-python",
   "name": "python",
   "nbconvert_exporter": "python",
   "pygments_lexer": "ipython3",
   "version": "3.8.0"
  }
 },
 "nbformat": 4,
 "nbformat_minor": 5
}
