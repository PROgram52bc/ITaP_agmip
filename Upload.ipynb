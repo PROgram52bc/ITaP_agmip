{
 "cells": [
  {
   "cell_type": "code",
   "execution_count": 1,
   "id": "2c9ed89c",
   "metadata": {},
   "outputs": [],
   "source": [
    "from ipywidgets import FileUpload, Button, HBox, Dropdown\n",
    "from lib.prop import *\n",
    "from lib.upload import Upload, SelectOrUpload\n",
    "from lib.utils import *\n",
    "import os"
   ]
  },
  {
   "cell_type": "code",
   "execution_count": 2,
   "id": "6334e1a0",
   "metadata": {},
   "outputs": [
    {
     "data": {
      "application/vnd.jupyter.widget-view+json": {
       "model_id": "2a7f1a7d38054015a17185d630447491",
       "version_major": 2,
       "version_minor": 0
      },
      "text/plain": [
       "Upload(children=(FileUpload(value={}, description='Upload'), Button(description='Clear', disabled=True, style=…"
      ]
     },
     "metadata": {},
     "output_type": "display_data"
    }
   ],
   "source": [
    "use_uploaded = Prop(value=False)\n",
    "us = Upload(overwrite=True)\n",
    "def cb_use_upload(_):\n",
    "    use_uploaded.value = True\n",
    "us.on_upload(cb_use_upload)\n",
    "us"
   ]
  },
  {
   "cell_type": "code",
   "execution_count": 3,
   "id": "ae0ed18b",
   "metadata": {},
   "outputs": [
    {
     "data": {
      "application/vnd.jupyter.widget-view+json": {
       "model_id": "20b0a7f209c44d7bb3df0e2f94fdf53d",
       "version_major": 2,
       "version_minor": 0
      },
      "text/plain": [
       "Output(_dom_classes=('no-subarea-padding',))"
      ]
     },
     "metadata": {},
     "output_type": "display_data"
    }
   ],
   "source": [
    "btn = Button(description=\"Use Existing\")\n",
    "def cb_use_selection(_):\n",
    "    use_uploaded.value = False\n",
    "btn.on_click(cb_use_selection)\n",
    "sl = conditional_widget(use_uploaded,\n",
    "                        btn,\n",
    "                        Dropdown(options=['file1.txt', 'file2.txt']))\n",
    "    \n",
    "sl"
   ]
  },
  {
   "cell_type": "code",
   "execution_count": 4,
   "id": "255566db",
   "metadata": {},
   "outputs": [
    {
     "data": {
      "application/vnd.jupyter.widget-view+json": {
       "model_id": "ea970dae9f3e420b95fe7a04b752984f",
       "version_major": 2,
       "version_minor": 0
      },
      "text/plain": [
       "HBox(children=(Output(_dom_classes=('no-subarea-padding',)), Upload(children=(FileUpload(value={}, description…"
      ]
     },
     "metadata": {},
     "output_type": "display_data"
    }
   ],
   "source": [
    "hb = HBox(children=[sl, us])\n",
    "hb"
   ]
  },
  {
   "cell_type": "code",
   "execution_count": 5,
   "id": "5d01d92e",
   "metadata": {},
   "outputs": [
    {
     "data": {
      "application/vnd.jupyter.widget-view+json": {
       "model_id": "d7caaa3df9a94b268680a7c19356cb70",
       "version_major": 2,
       "version_minor": 0
      },
      "text/plain": [
       "SelectOrUpload(children=(Output(), Output(_dom_classes=('no-subarea-padding',)), Upload(children=(FileUpload(v…"
      ]
     },
     "metadata": {},
     "output_type": "display_data"
    },
    {
     "name": "stdout",
     "output_type": "stream",
     "text": [
      "confirm called\n",
      "fname: main.php\n",
      "lmod: 1637330084.537\n",
      "dest_path: ./main.php\n"
     ]
    }
   ],
   "source": [
    "su = SelectOrUpload(overwrite=True)\n",
    "su"
   ]
  },
  {
   "cell_type": "code",
   "execution_count": 6,
   "id": "681eb26b",
   "metadata": {},
   "outputs": [
    {
     "data": {
      "application/vnd.jupyter.widget-view+json": {
       "model_id": "53413da0687c4d35839358b0cb0052c2",
       "version_major": 2,
       "version_minor": 0
      },
      "text/plain": [
       "Output()"
      ]
     },
     "metadata": {},
     "output_type": "display_data"
    }
   ],
   "source": [
    "displayable(su.target_file)"
   ]
  }
 ],
 "metadata": {
  "kernelspec": {
   "display_name": "Python 3",
   "language": "python",
   "name": "python3"
  },
  "language_info": {
   "codemirror_mode": {
    "name": "ipython",
    "version": 3
   },
   "file_extension": ".py",
   "mimetype": "text/x-python",
   "name": "python",
   "nbconvert_exporter": "python",
   "pygments_lexer": "ipython3",
   "version": "3.8.0"
  }
 },
 "nbformat": 4,
 "nbformat_minor": 5
}
